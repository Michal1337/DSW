{
 "cells": [
  {
   "cell_type": "code",
   "execution_count": 98,
   "id": "754666d3",
   "metadata": {},
   "outputs": [],
   "source": [
    "import requests\n",
    "import pandas as pd\n",
    "import re\n",
    "from geographiclib.geodesic import Geodesic\n",
    "import warnings\n",
    "warnings.filterwarnings(\"ignore\")"
   ]
  },
  {
   "cell_type": "code",
   "execution_count": 111,
   "id": "26447e74",
   "metadata": {},
   "outputs": [],
   "source": [
    "LAT_A = 52.162258\n",
    "LNG_A = 21.028076\n",
    "LAT_B = 52.1624\n",
    "LNG_B = 21.0383"
   ]
  },
  {
   "cell_type": "code",
   "execution_count": null,
   "id": "02f8b440",
   "metadata": {},
   "outputs": [],
   "source": [
    "def fetch_nextbike_data() :\n",
    "    url = \"https://api.nextbike.net/maps/nextbike-live.json?city=199,362,812,833\"\n",
    "    try:\n",
    "        response = requests.get(url)\n",
    "        if response.status_code == 200:\n",
    "            return response.json()\n",
    "        return None\n",
    "    except:\n",
    "        return None"
   ]
  },
  {
   "cell_type": "code",
   "execution_count": null,
   "id": "b2b5f65e",
   "metadata": {},
   "outputs": [],
   "source": [
    "def karney_distance(lat1, lon1, lat2, lon2):\n",
    "    geod = Geodesic.WGS84\n",
    "    result = geod.Inverse(lat1, lon1, lat2, lon2)\n",
    "    return result['s12'] / 1000  # Distance in kilometers"
   ]
  },
  {
   "cell_type": "code",
   "execution_count": 90,
   "id": "07e383a8",
   "metadata": {},
   "outputs": [],
   "source": [
    "def filter_stations(stations):\n",
    "    # filter stations with name like BIKE 612448, use regex\n",
    "    stations = [station for station in stations if not re.match(r\"^BIKE \\d+$\", station[\"name\"])]\n",
    "    return stations"
   ]
  },
  {
   "cell_type": "code",
   "execution_count": 34,
   "id": "4103e1d7",
   "metadata": {},
   "outputs": [],
   "source": [
    "def sort_stations(lat, lng, places):\n",
    "    # add distance to each place\n",
    "    for place in places:\n",
    "        place['distance'] = karney_distance(lat, lng, place['lat'], place['lng'])\n",
    "    # sort by distance\n",
    "    places.sort(key=lambda x: x['distance'])\n",
    "    return places"
   ]
  },
  {
   "cell_type": "code",
   "execution_count": null,
   "id": "235a7ed5",
   "metadata": {},
   "outputs": [],
   "source": [
    "def find_connection(df_history, lat_a, lng_a, lat_b, lng_b):\n",
    "    data = fetch_nextbike_data()\n",
    "    places = data[\"countries\"][2][\"cities\"][0][\"places\"]\n",
    "    places = filter_stations(places)\n",
    "    places = sort_stations(lat_a, lng_a, places)\n",
    "    for place in places:\n",
    "        bikes = place.get(\"bike_list\", [])\n",
    "        if len(bikes) > 0:\n",
    "            break\n",
    "    start_place = place.copy()\n",
    "\n",
    "    places = sort_stations(lat_b, lng_b, places)\n",
    "    for place in places:\n",
    "        if place[\"free_racks\"] > 0:\n",
    "            break\n",
    "    end_place = place.copy()\n",
    "\n",
    "    if start_place == end_place:\n",
    "        print(\"Start and end places are the same.\") # if both stations are the same, no good bike connection avialable\n",
    "        return None, None\n",
    "\n",
    "    slct = df_history[\n",
    "        (df_history[\"from_station\"] == start_place[\"name\"]) &\n",
    "        (df_history[\"to_station\"] == end_place[\"name\"])\n",
    "    ]\n",
    "    slct[\"departure_time\"] = pd.to_datetime(slct[\"departure_time\"])\n",
    "    slct[\"arrival_time\"] = pd.to_datetime(slct[\"arrival_time\"])\n",
    "    slct[\"travel_time\"] = slct[\"arrival_time\"] - slct[\"departure_time\"]\n",
    "\n",
    "    print(f\"Closest station with bikes: {start_place['name']}, {start_place['distance']:.2f} km away, {len(bikes)} bikes available.\")\n",
    "    print(f\"Closest station with free racks: {end_place['name']}, {end_place['distance']:.2f} km away, {end_place['free_racks']} free racks available.\")\n",
    "\n",
    "    if len(slct) > 0:\n",
    "        print(f\"Previous trips from {start_place['name']} to {end_place['name']}:\")\n",
    "        print(f\"Number of trips: {len(slct)}\")\n",
    "        print(f\"Average travel time: {slct['travel_time'].mean().total_seconds() / 60:.2f} minutes.\")\n",
    "        print(f\"Maximum travel time: {slct['travel_time'].max().total_seconds() / 60:.2f} minutes.\")\n",
    "        print(f\"Minimum travel time: {slct['travel_time'].min().total_seconds() / 60:.2f} minutes.\")\n",
    "    else:\n",
    "        print(f\"No previous trips from {start_place['name']} to {end_place['name']}.\")\n",
    "\n",
    "    return start_place, end_place"
   ]
  },
  {
   "cell_type": "code",
   "execution_count": null,
   "id": "8a98b81d",
   "metadata": {},
   "outputs": [],
   "source": [
    "df = pd.read_csv(\"bike_movements_warsaw.csv\")"
   ]
  },
  {
   "cell_type": "code",
   "execution_count": 113,
   "id": "efd8509c",
   "metadata": {},
   "outputs": [
    {
     "name": "stdout",
     "output_type": "stream",
     "text": [
      "Closest station with bikes: Metro Ursynów, 0.00 km away, 1 bikes available.\n",
      "Closest station with free racks: Jastrzębowskiego - SGGW, 0.01 km away, 4 free racks available.\n",
      "Previous trips from Metro Ursynów to Jastrzębowskiego - SGGW:\n",
      "Number of trips: 302\n",
      "Average travel time: 36.85 minutes.\n",
      "Maximum travel time: 1062.92 minutes.\n",
      "Minimum travel time: 3.08 minutes.\n"
     ]
    }
   ],
   "source": [
    "a, b = find_connection(df, LAT_A, LNG_A, LAT_B, LNG_B)"
   ]
  },
  {
   "cell_type": "code",
   "execution_count": null,
   "id": "054a254b",
   "metadata": {},
   "outputs": [],
   "source": []
  },
  {
   "cell_type": "code",
   "execution_count": null,
   "id": "5a008b8b",
   "metadata": {},
   "outputs": [],
   "source": []
  }
 ],
 "metadata": {
  "kernelspec": {
   "display_name": "base",
   "language": "python",
   "name": "python3"
  },
  "language_info": {
   "codemirror_mode": {
    "name": "ipython",
    "version": 3
   },
   "file_extension": ".py",
   "mimetype": "text/x-python",
   "name": "python",
   "nbconvert_exporter": "python",
   "pygments_lexer": "ipython3",
   "version": "3.12.3"
  }
 },
 "nbformat": 4,
 "nbformat_minor": 5
}
